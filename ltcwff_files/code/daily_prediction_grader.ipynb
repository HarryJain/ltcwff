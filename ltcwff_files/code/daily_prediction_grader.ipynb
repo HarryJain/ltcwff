{
 "metadata": {
  "language_info": {
   "codemirror_mode": {
    "name": "ipython",
    "version": 3
   },
   "file_extension": ".py",
   "mimetype": "text/x-python",
   "name": "python",
   "nbconvert_exporter": "python",
   "pygments_lexer": "ipython3",
   "version": "3.8.3-final"
  },
  "orig_nbformat": 2,
  "kernelspec": {
   "name": "python3",
   "display_name": "Python 3",
   "language": "python"
  }
 },
 "nbformat": 4,
 "nbformat_minor": 2,
 "cells": [
  {
   "source": [
    "# Grade NBA Predictions"
   ],
   "cell_type": "markdown",
   "metadata": {}
  },
  {
   "source": [
    "### Module Imports and Settings"
   ],
   "cell_type": "markdown",
   "metadata": {}
  },
  {
   "cell_type": "code",
   "execution_count": 111,
   "metadata": {},
   "outputs": [],
   "source": [
    "from bs4 import BeautifulSoup as Soup\n",
    "from os import path\n",
    "from sys import exit\n",
    "import requests\n",
    "from pandas import DataFrame\n",
    "import pandas as pd\n",
    "import numpy as np\n",
    "from time import sleep\n",
    "from IPython.core.interactiveshell import InteractiveShell"
   ]
  },
  {
   "cell_type": "code",
   "execution_count": 85,
   "metadata": {},
   "outputs": [],
   "source": [
    "pd.options.display.max_columns = None\n",
    "InteractiveShell.ast_node_interactivity = \"all\""
   ]
  },
  {
   "cell_type": "code",
   "execution_count": 130,
   "metadata": {},
   "outputs": [],
   "source": [
    "DATA_DIR = 'C:\\\\Users\\\\Harry\\\\Documents\\\\LTCWFF\\\\ltcwff_files\\\\data\\\\daily_predictions'\n",
    "\n",
    "teams = {'Atlanta': 'ATL', 'Boston': 'BOS', 'Brooklyn': 'BRK', 'Charlotte': 'CHO', 'Chicago': 'CHI', 'Cleveland': 'CLE', 'Dallas': 'DAL', 'Denver': 'DEN', 'Detroit': 'DET', 'Golden State': 'GSW', 'Houston': 'HOU', 'Indiana': 'IND', 'LA': 'LAC', 'L.A. Lakers': 'LAL', 'LA Lakers': 'LAL', 'LA Clippers': 'LAC', 'L.A. Clippers': 'LAC', 'Memphis': 'MEM', 'Miami': 'MIA', 'Milwaukee': 'MIL', 'Minnesota': 'MIN', 'New Orleans': 'NOP', 'New York': 'NYK', 'Oklahoma City': 'OKC', 'Orlando': 'ORL', 'Philadelphia': 'PHI', 'Phoenix': 'PHO', 'Portland': 'POR', 'Sacramento': 'SAC', 'San Antonio': 'SAS', 'Toronto': 'TOR', 'Utah': 'UTA', 'Washington': 'WAS'}"
   ]
  },
  {
   "source": [
    "### Helper Functions"
   ],
   "cell_type": "markdown",
   "metadata": {}
  },
  {
   "cell_type": "code",
   "execution_count": 87,
   "metadata": {},
   "outputs": [],
   "source": [
    "def get_url_from_date(month, day, year, prefix = 'https://www.basketball-reference.com/boxscores'):\n",
    "    return f'{prefix}/?month={month}&day={day}&year={year}'"
   ]
  },
  {
   "cell_type": "code",
   "execution_count": 88,
   "metadata": {},
   "outputs": [],
   "source": [
    "def get_soup(month, day, year):\n",
    "    url = get_url_from_date(month, day, year)\n",
    "    print(url)\n",
    "    response = requests.get(url)\n",
    "    if not 200 <= response.status_code < 300:\n",
    "        exit('Invalid Date')\n",
    "    return Soup(response.content, 'html.parser')"
   ]
  },
  {
   "cell_type": "code",
   "execution_count": 89,
   "metadata": {},
   "outputs": [],
   "source": [
    "def parse_row(row):\n",
    "    result = [ x.string if x.find('a') == None else x.find('a').string for x in row.find_all('td') ]\n",
    "    return result"
   ]
  },
  {
   "cell_type": "code",
   "execution_count": 90,
   "metadata": {},
   "outputs": [],
   "source": [
    "def table_to_df(table, overheader = 0):\n",
    "    cols = table.find('thead').find_all('tr')[overheader].find_all('th')\n",
    "    cols = [ col.string if col.string != None else '' for col in cols ]\n",
    "    \n",
    "    stat_table = table.find('tbody')\n",
    "        \n",
    "    rows = stat_table.find_all('tr')\n",
    "    \n",
    "    headers = [ row.find('th').string for row in rows if row.find('th') != None ]\n",
    "    \n",
    "    list_of_parsed_rows = [ parse_row(row) for row in rows[0:len(rows)] ]\n",
    "    list_of_parsed_rows = [ row for row in list_of_parsed_rows if row != [] ]\n",
    "    list_of_parsed_rows\n",
    "    \n",
    "    df = DataFrame(list_of_parsed_rows)\n",
    "    if len(headers) != 0:\n",
    "        df.insert(0, '', headers)\n",
    "    df.columns = cols\n",
    "    \n",
    "    return df"
   ]
  },
  {
   "cell_type": "code",
   "execution_count": 132,
   "metadata": {},
   "outputs": [],
   "source": [
    "def compress_table(predictions, results):\n",
    "    rows = []\n",
    "    \n",
    "    i = 0\n",
    "    while i < len(predictions.index):\n",
    "        j = int(np.where(results['Team'] == predictions.loc[predictions.index[i], 'Team'])[0][0])\n",
    "        \n",
    "        row = {}\n",
    "        row['Home Team'] = teams[predictions.loc[predictions.index[i], 'Team']]\n",
    "        row['Away Team'] = teams[predictions.loc[predictions.index[i + 1], 'Team']]\n",
    "        row['Home T'] = results.loc[results.index[j], 'T']\n",
    "        row['Away T'] = results.loc[results.index[j + 1], 'T']\n",
    "        row['Home ML'] = predictions.loc[predictions.index[i], 'ML']\n",
    "        row['Away ML'] = predictions.loc[predictions.index[i + 1], 'ML']\n",
    "        row['ML Prediction'] = predictions.loc[predictions.index[i], 'ML Prediction']\n",
    "        row['Home Spread'] = predictions.loc[predictions.index[i], 'Spread']\n",
    "        row['Home Spread Odds'] = predictions.loc[predictions.index[i], 'Spread Odds']\n",
    "        row['Away Spread'] = predictions.loc[predictions.index[i + 1], 'Spread']\n",
    "        row['Away Spread Odds'] = predictions.loc[predictions.index[i + 1], 'Spread Odds']\n",
    "        row['Spread Prediction'] = predictions.loc[predictions.index[i], 'Spread Prediction']\n",
    "        row['Over'] = predictions.loc[predictions.index[i], 'Over']\n",
    "        row['Over Odds'] = predictions.loc[predictions.index[i], 'Over Odds']\n",
    "        row['Under'] = predictions.loc[predictions.index[i], 'Under']\n",
    "        row['Under Odds'] = predictions.loc[predictions.index[i], 'Under Odds']\n",
    "        row['Total Prediction'] = predictions.loc[predictions.index[i], 'Total Prediction']\n",
    "\n",
    "        rows.append(row)\n",
    "\n",
    "        i += 2\n",
    "\n",
    "    df = pd.DataFrame(rows)\n",
    "    return df"
   ]
  },
  {
   "source": [
    "### Get Games Dataframe"
   ],
   "cell_type": "markdown",
   "metadata": {}
  },
  {
   "cell_type": "code",
   "execution_count": 91,
   "metadata": {},
   "outputs": [],
   "source": [
    "def get_all_games(month, day, year):\n",
    "    soup = get_soup(month, day, year)\n",
    "\n",
    "    boxscores = soup.find_all('div', {'class': 'game_summary expanded nohover'})\n",
    "\n",
    "    if boxscores != None:\n",
    "        tables = [ table_to_df(boxscore.find_all('table')[1]) for boxscore in boxscores ]\n",
    "\n",
    "    rows = []\n",
    "\n",
    "    for table in tables:\n",
    "        row_1 = {'Date': f'{year}{month}{day}', 'Team': table.iloc[0, 0], '1': table.iloc[0, 1], '2': table.iloc[0, 2], '3': table.iloc[0, 3], '4': table.iloc[0, 4], 'T': int(table.iloc[0, 1]) + int(table.iloc[0, 2]) + int(table.iloc[0, 3]) + int(table.iloc[0, 4])}\n",
    "        row_2 = {'Date': f'{year}{month}{day}', 'Team': table.iloc[1, 0], '1': table.iloc[1, 1], '2': table.iloc[1, 2], '3': table.iloc[1, 3], '4': table.iloc[1, 4], 'T': int(table.iloc[1, 1]) + int(table.iloc[1, 2]) + int(table.iloc[1, 3]) + int(table.iloc[1, 4])}\n",
    "        rows.append(row_1)\n",
    "        rows.append(row_2)\n",
    "\n",
    "    return rows"
   ]
  },
  {
   "cell_type": "code",
   "execution_count": 92,
   "metadata": {},
   "outputs": [],
   "source": [
    "date = input(\"Date to grade (YYYYMMDD format)\")\n",
    "year = date[0:4]\n",
    "month = date[4:6]\n",
    "day = date[6:8]"
   ]
  },
  {
   "cell_type": "code",
   "execution_count": 109,
   "metadata": {},
   "outputs": [
    {
     "output_type": "stream",
     "name": "stdout",
     "text": [
      "https://www.basketball-reference.com/boxscores/?month=01&day=31&year=2021\n"
     ]
    },
    {
     "output_type": "execute_result",
     "data": {
      "text/plain": [
       "            Team   1   2   3   4    T\n",
       "0           Utah  29  25  37  26  117\n",
       "1         Denver  43  36  24  25  128\n",
       "2   Philadelphia  18  36  28  37  119\n",
       "3        Indiana  28  35  32  15  110\n",
       "4      Cleveland  35  26  25  18  104\n",
       "5      Minnesota  30  25  33  21  109\n",
       "6    LA Clippers  29  37  35  28  129\n",
       "7       New York  31  34  26  24  115\n",
       "8        Orlando  15  29  29  29  102\n",
       "9        Toronto  27  31  26  31  115\n",
       "10      Brooklyn  38  33  37  38  146\n",
       "11    Washington  28  37  36  48  149"
      ],
      "text/html": "<div>\n<style scoped>\n    .dataframe tbody tr th:only-of-type {\n        vertical-align: middle;\n    }\n\n    .dataframe tbody tr th {\n        vertical-align: top;\n    }\n\n    .dataframe thead th {\n        text-align: right;\n    }\n</style>\n<table border=\"1\" class=\"dataframe\">\n  <thead>\n    <tr style=\"text-align: right;\">\n      <th></th>\n      <th>Team</th>\n      <th>1</th>\n      <th>2</th>\n      <th>3</th>\n      <th>4</th>\n      <th>T</th>\n    </tr>\n  </thead>\n  <tbody>\n    <tr>\n      <th>0</th>\n      <td>Utah</td>\n      <td>29</td>\n      <td>25</td>\n      <td>37</td>\n      <td>26</td>\n      <td>117</td>\n    </tr>\n    <tr>\n      <th>1</th>\n      <td>Denver</td>\n      <td>43</td>\n      <td>36</td>\n      <td>24</td>\n      <td>25</td>\n      <td>128</td>\n    </tr>\n    <tr>\n      <th>2</th>\n      <td>Philadelphia</td>\n      <td>18</td>\n      <td>36</td>\n      <td>28</td>\n      <td>37</td>\n      <td>119</td>\n    </tr>\n    <tr>\n      <th>3</th>\n      <td>Indiana</td>\n      <td>28</td>\n      <td>35</td>\n      <td>32</td>\n      <td>15</td>\n      <td>110</td>\n    </tr>\n    <tr>\n      <th>4</th>\n      <td>Cleveland</td>\n      <td>35</td>\n      <td>26</td>\n      <td>25</td>\n      <td>18</td>\n      <td>104</td>\n    </tr>\n    <tr>\n      <th>5</th>\n      <td>Minnesota</td>\n      <td>30</td>\n      <td>25</td>\n      <td>33</td>\n      <td>21</td>\n      <td>109</td>\n    </tr>\n    <tr>\n      <th>6</th>\n      <td>LA Clippers</td>\n      <td>29</td>\n      <td>37</td>\n      <td>35</td>\n      <td>28</td>\n      <td>129</td>\n    </tr>\n    <tr>\n      <th>7</th>\n      <td>New York</td>\n      <td>31</td>\n      <td>34</td>\n      <td>26</td>\n      <td>24</td>\n      <td>115</td>\n    </tr>\n    <tr>\n      <th>8</th>\n      <td>Orlando</td>\n      <td>15</td>\n      <td>29</td>\n      <td>29</td>\n      <td>29</td>\n      <td>102</td>\n    </tr>\n    <tr>\n      <th>9</th>\n      <td>Toronto</td>\n      <td>27</td>\n      <td>31</td>\n      <td>26</td>\n      <td>31</td>\n      <td>115</td>\n    </tr>\n    <tr>\n      <th>10</th>\n      <td>Brooklyn</td>\n      <td>38</td>\n      <td>33</td>\n      <td>37</td>\n      <td>38</td>\n      <td>146</td>\n    </tr>\n    <tr>\n      <th>11</th>\n      <td>Washington</td>\n      <td>28</td>\n      <td>37</td>\n      <td>36</td>\n      <td>48</td>\n      <td>149</td>\n    </tr>\n  </tbody>\n</table>\n</div>"
     },
     "metadata": {},
     "execution_count": 109
    },
    {
     "output_type": "error",
     "ename": "TypeError",
     "evalue": "compress_table() missing 1 required positional argument: 'results'",
     "traceback": [
      "\u001b[1;31m---------------------------------------------------------------------------\u001b[0m",
      "\u001b[1;31mTypeError\u001b[0m                                 Traceback (most recent call last)",
      "\u001b[1;32m<ipython-input-109-182707fe71fc>\u001b[0m in \u001b[0;36m<module>\u001b[1;34m\u001b[0m\n\u001b[0;32m      3\u001b[0m \u001b[0mresults\u001b[0m \u001b[1;33m=\u001b[0m \u001b[0mresults\u001b[0m\u001b[1;33m.\u001b[0m\u001b[0mdrop\u001b[0m\u001b[1;33m(\u001b[0m\u001b[0mresults\u001b[0m\u001b[1;33m.\u001b[0m\u001b[0mcolumns\u001b[0m\u001b[1;33m[\u001b[0m\u001b[1;36m0\u001b[0m\u001b[1;33m]\u001b[0m\u001b[1;33m,\u001b[0m \u001b[0maxis\u001b[0m \u001b[1;33m=\u001b[0m \u001b[1;36m1\u001b[0m\u001b[1;33m)\u001b[0m\u001b[1;33m\u001b[0m\u001b[1;33m\u001b[0m\u001b[0m\n\u001b[0;32m      4\u001b[0m \u001b[0mresults\u001b[0m\u001b[1;33m\u001b[0m\u001b[1;33m\u001b[0m\u001b[0m\n\u001b[1;32m----> 5\u001b[1;33m \u001b[0mcompress_table\u001b[0m\u001b[1;33m(\u001b[0m\u001b[0mresults\u001b[0m\u001b[1;33m)\u001b[0m\u001b[1;33m\u001b[0m\u001b[1;33m\u001b[0m\u001b[0m\n\u001b[0m",
      "\u001b[1;31mTypeError\u001b[0m: compress_table() missing 1 required positional argument: 'results'"
     ]
    }
   ],
   "source": [
    "rows = get_all_games(month, day, year)\n",
    "results = pd.DataFrame(rows)\n",
    "results = results.drop(results.columns[0], axis = 1)\n",
    "results"
   ]
  },
  {
   "cell_type": "code",
   "execution_count": 100,
   "metadata": {},
   "outputs": [
    {
     "output_type": "execute_result",
     "data": {
      "text/plain": [
       "           Team  Spread  Spread Odds   ML   Over  Over Odds  Under  \\\n",
       "0          Utah    -3.0         -102 -140  221.0       -103  221.0   \n",
       "1        Denver     3.0         -108  130  221.0       -103  221.0   \n",
       "2  Philadelphia    -1.5         -109 -118  223.0       -107  223.0   \n",
       "3       Indiana     1.5         -101  108  223.0       -107  223.0   \n",
       "4       Orlando     5.5         -103  200  215.5       -105  215.5   \n",
       "5       Toronto    -5.5         -107 -220  215.5       -105  215.5   \n",
       "6      Brooklyn    -6.0         -104 -250  245.5       -105  245.5   \n",
       "7    Washington     6.0         -106  230  245.5       -105  245.5   \n",
       "8     Cleveland    -3.0         -105 -143  218.0       -103  218.0   \n",
       "9     Minnesota     3.0         -105  133  218.0       -103  218.0   \n",
       "\n",
       "   Under Odds Spread Prediction Total Prediction ML Prediction  \n",
       "0        -107               UTA            Under           UTA  \n",
       "1        -107               UTA            Under           UTA  \n",
       "2        -103               PHI            Under           PHI  \n",
       "3        -103               PHI            Under           PHI  \n",
       "4        -105               TOR             Over           TOR  \n",
       "5        -105               TOR             Over           TOR  \n",
       "6        -105               BRK             Over           BRK  \n",
       "7        -105               BRK             Over           BRK  \n",
       "8        -107               CLE             Over           CLE  \n",
       "9        -107               CLE             Over           CLE  "
      ],
      "text/html": "<div>\n<style scoped>\n    .dataframe tbody tr th:only-of-type {\n        vertical-align: middle;\n    }\n\n    .dataframe tbody tr th {\n        vertical-align: top;\n    }\n\n    .dataframe thead th {\n        text-align: right;\n    }\n</style>\n<table border=\"1\" class=\"dataframe\">\n  <thead>\n    <tr style=\"text-align: right;\">\n      <th></th>\n      <th>Team</th>\n      <th>Spread</th>\n      <th>Spread Odds</th>\n      <th>ML</th>\n      <th>Over</th>\n      <th>Over Odds</th>\n      <th>Under</th>\n      <th>Under Odds</th>\n      <th>Spread Prediction</th>\n      <th>Total Prediction</th>\n      <th>ML Prediction</th>\n    </tr>\n  </thead>\n  <tbody>\n    <tr>\n      <th>0</th>\n      <td>Utah</td>\n      <td>-3.0</td>\n      <td>-102</td>\n      <td>-140</td>\n      <td>221.0</td>\n      <td>-103</td>\n      <td>221.0</td>\n      <td>-107</td>\n      <td>UTA</td>\n      <td>Under</td>\n      <td>UTA</td>\n    </tr>\n    <tr>\n      <th>1</th>\n      <td>Denver</td>\n      <td>3.0</td>\n      <td>-108</td>\n      <td>130</td>\n      <td>221.0</td>\n      <td>-103</td>\n      <td>221.0</td>\n      <td>-107</td>\n      <td>UTA</td>\n      <td>Under</td>\n      <td>UTA</td>\n    </tr>\n    <tr>\n      <th>2</th>\n      <td>Philadelphia</td>\n      <td>-1.5</td>\n      <td>-109</td>\n      <td>-118</td>\n      <td>223.0</td>\n      <td>-107</td>\n      <td>223.0</td>\n      <td>-103</td>\n      <td>PHI</td>\n      <td>Under</td>\n      <td>PHI</td>\n    </tr>\n    <tr>\n      <th>3</th>\n      <td>Indiana</td>\n      <td>1.5</td>\n      <td>-101</td>\n      <td>108</td>\n      <td>223.0</td>\n      <td>-107</td>\n      <td>223.0</td>\n      <td>-103</td>\n      <td>PHI</td>\n      <td>Under</td>\n      <td>PHI</td>\n    </tr>\n    <tr>\n      <th>4</th>\n      <td>Orlando</td>\n      <td>5.5</td>\n      <td>-103</td>\n      <td>200</td>\n      <td>215.5</td>\n      <td>-105</td>\n      <td>215.5</td>\n      <td>-105</td>\n      <td>TOR</td>\n      <td>Over</td>\n      <td>TOR</td>\n    </tr>\n    <tr>\n      <th>5</th>\n      <td>Toronto</td>\n      <td>-5.5</td>\n      <td>-107</td>\n      <td>-220</td>\n      <td>215.5</td>\n      <td>-105</td>\n      <td>215.5</td>\n      <td>-105</td>\n      <td>TOR</td>\n      <td>Over</td>\n      <td>TOR</td>\n    </tr>\n    <tr>\n      <th>6</th>\n      <td>Brooklyn</td>\n      <td>-6.0</td>\n      <td>-104</td>\n      <td>-250</td>\n      <td>245.5</td>\n      <td>-105</td>\n      <td>245.5</td>\n      <td>-105</td>\n      <td>BRK</td>\n      <td>Over</td>\n      <td>BRK</td>\n    </tr>\n    <tr>\n      <th>7</th>\n      <td>Washington</td>\n      <td>6.0</td>\n      <td>-106</td>\n      <td>230</td>\n      <td>245.5</td>\n      <td>-105</td>\n      <td>245.5</td>\n      <td>-105</td>\n      <td>BRK</td>\n      <td>Over</td>\n      <td>BRK</td>\n    </tr>\n    <tr>\n      <th>8</th>\n      <td>Cleveland</td>\n      <td>-3.0</td>\n      <td>-105</td>\n      <td>-143</td>\n      <td>218.0</td>\n      <td>-103</td>\n      <td>218.0</td>\n      <td>-107</td>\n      <td>CLE</td>\n      <td>Over</td>\n      <td>CLE</td>\n    </tr>\n    <tr>\n      <th>9</th>\n      <td>Minnesota</td>\n      <td>3.0</td>\n      <td>-105</td>\n      <td>133</td>\n      <td>218.0</td>\n      <td>-103</td>\n      <td>218.0</td>\n      <td>-107</td>\n      <td>CLE</td>\n      <td>Over</td>\n      <td>CLE</td>\n    </tr>\n  </tbody>\n</table>\n</div>"
     },
     "metadata": {},
     "execution_count": 100
    }
   ],
   "source": [
    "try:\n",
    "    predictions = pd.read_csv(path.join(DATA_DIR, f\"{date}.csv\"))\n",
    "except:\n",
    "    print()\n",
    "\n",
    "predictions = predictions.drop([predictions.columns[0], predictions.columns[1]], axis = 1)\n",
    "predictions"
   ]
  },
  {
   "cell_type": "code",
   "execution_count": 142,
   "metadata": {},
   "outputs": [
    {
     "output_type": "execute_result",
     "data": {
      "text/plain": [
       "<pandas.io.formats.style.Styler at 0x19eb0b15dc0>"
      ],
      "text/html": "<style  type=\"text/css\" >\n    #T_a90b04f5_6595_11eb_9fb8_7470fd75f11frow1_col6 {\n            background:  green;\n        }    #T_a90b04f5_6595_11eb_9fb8_7470fd75f11frow1_col11 {\n            background:  green;\n        }    #T_a90b04f5_6595_11eb_9fb8_7470fd75f11frow2_col6 {\n            background:  green;\n        }    #T_a90b04f5_6595_11eb_9fb8_7470fd75f11frow2_col11 {\n            background:  green;\n        }    #T_a90b04f5_6595_11eb_9fb8_7470fd75f11frow2_col16 {\n            background:  green;\n        }    #T_a90b04f5_6595_11eb_9fb8_7470fd75f11frow3_col16 {\n            background:  green;\n        }</style><table id=\"T_a90b04f5_6595_11eb_9fb8_7470fd75f11f\" ><thead>    <tr>        <th class=\"blank level0\" ></th>        <th class=\"col_heading level0 col0\" >Home Team</th>        <th class=\"col_heading level0 col1\" >Away Team</th>        <th class=\"col_heading level0 col2\" >Home T</th>        <th class=\"col_heading level0 col3\" >Away T</th>        <th class=\"col_heading level0 col4\" >Home ML</th>        <th class=\"col_heading level0 col5\" >Away ML</th>        <th class=\"col_heading level0 col6\" >ML Prediction</th>        <th class=\"col_heading level0 col7\" >Home Spread</th>        <th class=\"col_heading level0 col8\" >Home Spread Odds</th>        <th class=\"col_heading level0 col9\" >Away Spread</th>        <th class=\"col_heading level0 col10\" >Away Spread Odds</th>        <th class=\"col_heading level0 col11\" >Spread Prediction</th>        <th class=\"col_heading level0 col12\" >Over</th>        <th class=\"col_heading level0 col13\" >Over Odds</th>        <th class=\"col_heading level0 col14\" >Under</th>        <th class=\"col_heading level0 col15\" >Under Odds</th>        <th class=\"col_heading level0 col16\" >Total Prediction</th>    </tr></thead><tbody>\n                <tr>\n                        <th id=\"T_a90b04f5_6595_11eb_9fb8_7470fd75f11flevel0_row0\" class=\"row_heading level0 row0\" >0</th>\n                        <td id=\"T_a90b04f5_6595_11eb_9fb8_7470fd75f11frow0_col0\" class=\"data row0 col0\" >UTA</td>\n                        <td id=\"T_a90b04f5_6595_11eb_9fb8_7470fd75f11frow0_col1\" class=\"data row0 col1\" >DEN</td>\n                        <td id=\"T_a90b04f5_6595_11eb_9fb8_7470fd75f11frow0_col2\" class=\"data row0 col2\" >117</td>\n                        <td id=\"T_a90b04f5_6595_11eb_9fb8_7470fd75f11frow0_col3\" class=\"data row0 col3\" >128</td>\n                        <td id=\"T_a90b04f5_6595_11eb_9fb8_7470fd75f11frow0_col4\" class=\"data row0 col4\" >-140</td>\n                        <td id=\"T_a90b04f5_6595_11eb_9fb8_7470fd75f11frow0_col5\" class=\"data row0 col5\" >130</td>\n                        <td id=\"T_a90b04f5_6595_11eb_9fb8_7470fd75f11frow0_col6\" class=\"data row0 col6\" >UTA</td>\n                        <td id=\"T_a90b04f5_6595_11eb_9fb8_7470fd75f11frow0_col7\" class=\"data row0 col7\" >-3.000000</td>\n                        <td id=\"T_a90b04f5_6595_11eb_9fb8_7470fd75f11frow0_col8\" class=\"data row0 col8\" >-102</td>\n                        <td id=\"T_a90b04f5_6595_11eb_9fb8_7470fd75f11frow0_col9\" class=\"data row0 col9\" >3.000000</td>\n                        <td id=\"T_a90b04f5_6595_11eb_9fb8_7470fd75f11frow0_col10\" class=\"data row0 col10\" >-108</td>\n                        <td id=\"T_a90b04f5_6595_11eb_9fb8_7470fd75f11frow0_col11\" class=\"data row0 col11\" >UTA</td>\n                        <td id=\"T_a90b04f5_6595_11eb_9fb8_7470fd75f11frow0_col12\" class=\"data row0 col12\" >221.000000</td>\n                        <td id=\"T_a90b04f5_6595_11eb_9fb8_7470fd75f11frow0_col13\" class=\"data row0 col13\" >-103</td>\n                        <td id=\"T_a90b04f5_6595_11eb_9fb8_7470fd75f11frow0_col14\" class=\"data row0 col14\" >221.000000</td>\n                        <td id=\"T_a90b04f5_6595_11eb_9fb8_7470fd75f11frow0_col15\" class=\"data row0 col15\" >-107</td>\n                        <td id=\"T_a90b04f5_6595_11eb_9fb8_7470fd75f11frow0_col16\" class=\"data row0 col16\" >Under</td>\n            </tr>\n            <tr>\n                        <th id=\"T_a90b04f5_6595_11eb_9fb8_7470fd75f11flevel0_row1\" class=\"row_heading level0 row1\" >1</th>\n                        <td id=\"T_a90b04f5_6595_11eb_9fb8_7470fd75f11frow1_col0\" class=\"data row1 col0\" >PHI</td>\n                        <td id=\"T_a90b04f5_6595_11eb_9fb8_7470fd75f11frow1_col1\" class=\"data row1 col1\" >IND</td>\n                        <td id=\"T_a90b04f5_6595_11eb_9fb8_7470fd75f11frow1_col2\" class=\"data row1 col2\" >119</td>\n                        <td id=\"T_a90b04f5_6595_11eb_9fb8_7470fd75f11frow1_col3\" class=\"data row1 col3\" >110</td>\n                        <td id=\"T_a90b04f5_6595_11eb_9fb8_7470fd75f11frow1_col4\" class=\"data row1 col4\" >-118</td>\n                        <td id=\"T_a90b04f5_6595_11eb_9fb8_7470fd75f11frow1_col5\" class=\"data row1 col5\" >108</td>\n                        <td id=\"T_a90b04f5_6595_11eb_9fb8_7470fd75f11frow1_col6\" class=\"data row1 col6\" >PHI - Correct</td>\n                        <td id=\"T_a90b04f5_6595_11eb_9fb8_7470fd75f11frow1_col7\" class=\"data row1 col7\" >-1.500000</td>\n                        <td id=\"T_a90b04f5_6595_11eb_9fb8_7470fd75f11frow1_col8\" class=\"data row1 col8\" >-109</td>\n                        <td id=\"T_a90b04f5_6595_11eb_9fb8_7470fd75f11frow1_col9\" class=\"data row1 col9\" >1.500000</td>\n                        <td id=\"T_a90b04f5_6595_11eb_9fb8_7470fd75f11frow1_col10\" class=\"data row1 col10\" >-101</td>\n                        <td id=\"T_a90b04f5_6595_11eb_9fb8_7470fd75f11frow1_col11\" class=\"data row1 col11\" >PHI - Correct</td>\n                        <td id=\"T_a90b04f5_6595_11eb_9fb8_7470fd75f11frow1_col12\" class=\"data row1 col12\" >223.000000</td>\n                        <td id=\"T_a90b04f5_6595_11eb_9fb8_7470fd75f11frow1_col13\" class=\"data row1 col13\" >-107</td>\n                        <td id=\"T_a90b04f5_6595_11eb_9fb8_7470fd75f11frow1_col14\" class=\"data row1 col14\" >223.000000</td>\n                        <td id=\"T_a90b04f5_6595_11eb_9fb8_7470fd75f11frow1_col15\" class=\"data row1 col15\" >-103</td>\n                        <td id=\"T_a90b04f5_6595_11eb_9fb8_7470fd75f11frow1_col16\" class=\"data row1 col16\" >Under</td>\n            </tr>\n            <tr>\n                        <th id=\"T_a90b04f5_6595_11eb_9fb8_7470fd75f11flevel0_row2\" class=\"row_heading level0 row2\" >2</th>\n                        <td id=\"T_a90b04f5_6595_11eb_9fb8_7470fd75f11frow2_col0\" class=\"data row2 col0\" >ORL</td>\n                        <td id=\"T_a90b04f5_6595_11eb_9fb8_7470fd75f11frow2_col1\" class=\"data row2 col1\" >TOR</td>\n                        <td id=\"T_a90b04f5_6595_11eb_9fb8_7470fd75f11frow2_col2\" class=\"data row2 col2\" >102</td>\n                        <td id=\"T_a90b04f5_6595_11eb_9fb8_7470fd75f11frow2_col3\" class=\"data row2 col3\" >115</td>\n                        <td id=\"T_a90b04f5_6595_11eb_9fb8_7470fd75f11frow2_col4\" class=\"data row2 col4\" >200</td>\n                        <td id=\"T_a90b04f5_6595_11eb_9fb8_7470fd75f11frow2_col5\" class=\"data row2 col5\" >-220</td>\n                        <td id=\"T_a90b04f5_6595_11eb_9fb8_7470fd75f11frow2_col6\" class=\"data row2 col6\" >TOR - Correct</td>\n                        <td id=\"T_a90b04f5_6595_11eb_9fb8_7470fd75f11frow2_col7\" class=\"data row2 col7\" >5.500000</td>\n                        <td id=\"T_a90b04f5_6595_11eb_9fb8_7470fd75f11frow2_col8\" class=\"data row2 col8\" >-103</td>\n                        <td id=\"T_a90b04f5_6595_11eb_9fb8_7470fd75f11frow2_col9\" class=\"data row2 col9\" >-5.500000</td>\n                        <td id=\"T_a90b04f5_6595_11eb_9fb8_7470fd75f11frow2_col10\" class=\"data row2 col10\" >-107</td>\n                        <td id=\"T_a90b04f5_6595_11eb_9fb8_7470fd75f11frow2_col11\" class=\"data row2 col11\" >TOR - Correct</td>\n                        <td id=\"T_a90b04f5_6595_11eb_9fb8_7470fd75f11frow2_col12\" class=\"data row2 col12\" >215.500000</td>\n                        <td id=\"T_a90b04f5_6595_11eb_9fb8_7470fd75f11frow2_col13\" class=\"data row2 col13\" >-105</td>\n                        <td id=\"T_a90b04f5_6595_11eb_9fb8_7470fd75f11frow2_col14\" class=\"data row2 col14\" >215.500000</td>\n                        <td id=\"T_a90b04f5_6595_11eb_9fb8_7470fd75f11frow2_col15\" class=\"data row2 col15\" >-105</td>\n                        <td id=\"T_a90b04f5_6595_11eb_9fb8_7470fd75f11frow2_col16\" class=\"data row2 col16\" >Over - Correct</td>\n            </tr>\n            <tr>\n                        <th id=\"T_a90b04f5_6595_11eb_9fb8_7470fd75f11flevel0_row3\" class=\"row_heading level0 row3\" >3</th>\n                        <td id=\"T_a90b04f5_6595_11eb_9fb8_7470fd75f11frow3_col0\" class=\"data row3 col0\" >BRK</td>\n                        <td id=\"T_a90b04f5_6595_11eb_9fb8_7470fd75f11frow3_col1\" class=\"data row3 col1\" >WAS</td>\n                        <td id=\"T_a90b04f5_6595_11eb_9fb8_7470fd75f11frow3_col2\" class=\"data row3 col2\" >146</td>\n                        <td id=\"T_a90b04f5_6595_11eb_9fb8_7470fd75f11frow3_col3\" class=\"data row3 col3\" >149</td>\n                        <td id=\"T_a90b04f5_6595_11eb_9fb8_7470fd75f11frow3_col4\" class=\"data row3 col4\" >-250</td>\n                        <td id=\"T_a90b04f5_6595_11eb_9fb8_7470fd75f11frow3_col5\" class=\"data row3 col5\" >230</td>\n                        <td id=\"T_a90b04f5_6595_11eb_9fb8_7470fd75f11frow3_col6\" class=\"data row3 col6\" >BRK</td>\n                        <td id=\"T_a90b04f5_6595_11eb_9fb8_7470fd75f11frow3_col7\" class=\"data row3 col7\" >-6.000000</td>\n                        <td id=\"T_a90b04f5_6595_11eb_9fb8_7470fd75f11frow3_col8\" class=\"data row3 col8\" >-104</td>\n                        <td id=\"T_a90b04f5_6595_11eb_9fb8_7470fd75f11frow3_col9\" class=\"data row3 col9\" >6.000000</td>\n                        <td id=\"T_a90b04f5_6595_11eb_9fb8_7470fd75f11frow3_col10\" class=\"data row3 col10\" >-106</td>\n                        <td id=\"T_a90b04f5_6595_11eb_9fb8_7470fd75f11frow3_col11\" class=\"data row3 col11\" >BRK</td>\n                        <td id=\"T_a90b04f5_6595_11eb_9fb8_7470fd75f11frow3_col12\" class=\"data row3 col12\" >245.500000</td>\n                        <td id=\"T_a90b04f5_6595_11eb_9fb8_7470fd75f11frow3_col13\" class=\"data row3 col13\" >-105</td>\n                        <td id=\"T_a90b04f5_6595_11eb_9fb8_7470fd75f11frow3_col14\" class=\"data row3 col14\" >245.500000</td>\n                        <td id=\"T_a90b04f5_6595_11eb_9fb8_7470fd75f11frow3_col15\" class=\"data row3 col15\" >-105</td>\n                        <td id=\"T_a90b04f5_6595_11eb_9fb8_7470fd75f11frow3_col16\" class=\"data row3 col16\" >Over - Correct</td>\n            </tr>\n            <tr>\n                        <th id=\"T_a90b04f5_6595_11eb_9fb8_7470fd75f11flevel0_row4\" class=\"row_heading level0 row4\" >4</th>\n                        <td id=\"T_a90b04f5_6595_11eb_9fb8_7470fd75f11frow4_col0\" class=\"data row4 col0\" >CLE</td>\n                        <td id=\"T_a90b04f5_6595_11eb_9fb8_7470fd75f11frow4_col1\" class=\"data row4 col1\" >MIN</td>\n                        <td id=\"T_a90b04f5_6595_11eb_9fb8_7470fd75f11frow4_col2\" class=\"data row4 col2\" >104</td>\n                        <td id=\"T_a90b04f5_6595_11eb_9fb8_7470fd75f11frow4_col3\" class=\"data row4 col3\" >109</td>\n                        <td id=\"T_a90b04f5_6595_11eb_9fb8_7470fd75f11frow4_col4\" class=\"data row4 col4\" >-143</td>\n                        <td id=\"T_a90b04f5_6595_11eb_9fb8_7470fd75f11frow4_col5\" class=\"data row4 col5\" >133</td>\n                        <td id=\"T_a90b04f5_6595_11eb_9fb8_7470fd75f11frow4_col6\" class=\"data row4 col6\" >CLE</td>\n                        <td id=\"T_a90b04f5_6595_11eb_9fb8_7470fd75f11frow4_col7\" class=\"data row4 col7\" >-3.000000</td>\n                        <td id=\"T_a90b04f5_6595_11eb_9fb8_7470fd75f11frow4_col8\" class=\"data row4 col8\" >-105</td>\n                        <td id=\"T_a90b04f5_6595_11eb_9fb8_7470fd75f11frow4_col9\" class=\"data row4 col9\" >3.000000</td>\n                        <td id=\"T_a90b04f5_6595_11eb_9fb8_7470fd75f11frow4_col10\" class=\"data row4 col10\" >-105</td>\n                        <td id=\"T_a90b04f5_6595_11eb_9fb8_7470fd75f11frow4_col11\" class=\"data row4 col11\" >CLE</td>\n                        <td id=\"T_a90b04f5_6595_11eb_9fb8_7470fd75f11frow4_col12\" class=\"data row4 col12\" >218.000000</td>\n                        <td id=\"T_a90b04f5_6595_11eb_9fb8_7470fd75f11frow4_col13\" class=\"data row4 col13\" >-103</td>\n                        <td id=\"T_a90b04f5_6595_11eb_9fb8_7470fd75f11frow4_col14\" class=\"data row4 col14\" >218.000000</td>\n                        <td id=\"T_a90b04f5_6595_11eb_9fb8_7470fd75f11frow4_col15\" class=\"data row4 col15\" >-107</td>\n                        <td id=\"T_a90b04f5_6595_11eb_9fb8_7470fd75f11frow4_col16\" class=\"data row4 col16\" >Over</td>\n            </tr>\n    </tbody></table>"
     },
     "metadata": {},
     "execution_count": 142
    }
   ],
   "source": [
    "compressed = compress_table(predictions, results)\n",
    "\n",
    "for ind in compressed.index:\n",
    "    compressed.loc[ind, 'ML Prediction'] = f\"{compressed.loc[ind, 'ML Prediction']} - Correct\" if (compressed.loc[ind, 'ML Prediction'] == compressed.loc[ind, 'Home Team'] and compressed.loc[ind, 'Home T'] > compressed.loc[ind, 'Away T']) or (compressed.loc[ind, 'ML Prediction'] == compressed.loc[ind, 'Away Team'] and compressed.loc[ind, 'Away T'] > compressed.loc[ind, 'Home T']) else compressed.loc[ind, 'ML Prediction']\n",
    "    compressed.loc[ind, 'Spread Prediction'] = f\"{compressed.loc[ind, 'Spread Prediction']} - Correct\" if (compressed.loc[ind, 'Spread Prediction'] == compressed.loc[ind, 'Home Team'] and compressed.loc[ind, 'Home T'] - compressed.loc[ind, 'Away T'] > -compressed.loc[ind, 'Home Spread']) or (compressed.loc[ind, 'Spread Prediction'] == compressed.loc[ind, 'Away Team'] and compressed.loc[ind, 'Away T'] - compressed.loc[ind, 'Home T'] > -compressed.loc[ind, 'Away Spread']) else compressed.loc[ind, 'Spread Prediction']\n",
    "    compressed.loc[ind, 'Total Prediction'] = f\"{compressed.loc[ind, 'Total Prediction']} - Correct\" if (compressed.loc[ind, 'Total Prediction'] == 'Over' and compressed.loc[ind, 'Home T'] + compressed.loc[ind, 'Away T'] > compressed.loc[ind, 'Over']) or (compressed.loc[ind, 'Total Prediction'] == 'Under' and compressed.loc[ind, 'Home T'] + compressed.loc[ind, 'Away T'] < compressed.loc[ind, 'Under']) else compressed.loc[ind, 'Total Prediction']\n",
    "\n",
    "prediction_cols = ['ML Prediction', 'Spread Prediction', 'Total Prediction']\n",
    "compressed.style.apply(lambda x: [\"background: green\" if \"Correct\" in v else \"\" for v in x], axis = 1, subset = prediction_cols)"
   ]
  }
 ]
}